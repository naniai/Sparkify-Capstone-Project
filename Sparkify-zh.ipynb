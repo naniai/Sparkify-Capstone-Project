{
 "cells": [
  {
   "cell_type": "markdown",
   "metadata": {},
   "source": [
    "# Sparkify 项目 Workspace\n",
    "这个 Workspace 包括一个迷你的子数据集（128MB），是完整数据集（12GB）的一个子集。在将你的项目部署到云上之前，你可以自由使用 Workspace 来创建你的项目或用Spark来探索这个较小数据集。设置 Spark 集群的指南可以在选修 Spark 课程的内容里找到。\n",
    "\n",
    "你可以依照下面的步骤进行项目的数据分析和模型搭建部分。"
   ]
  },
  {
   "cell_type": "code",
   "execution_count": 1,
   "metadata": {},
   "outputs": [],
   "source": [
    "# import libraries\n",
    "import pyspark\n",
    "from pyspark.sql import SparkSession\n",
    "from pyspark.ml import Pipeline\n",
    "from pyspark.ml.feature import StandardScaler\n",
    "from pyspark.sql.functions import  *\n",
    "from pyspark.sql import Window\n",
    "from pyspark.sql.types import IntegerType\n",
    "from pyspark.ml.feature import MinMaxScaler, VectorAssembler, OneHotEncoder, StringIndexer\n",
    "from pyspark.ml.classification import LogisticRegression, RandomForestClassifier, NaiveBayes, GBTClassifier\n",
    "from pyspark.ml.clustering import KMeans\n",
    "from pyspark.ml.tuning import CrossValidator, ParamGridBuilder\n",
    "from pyspark.ml.evaluation import BinaryClassificationEvaluator, MulticlassClassificationEvaluator\n",
    "\n",
    "import numpy as np\n",
    "import pandas as pd\n",
    "import matplotlib.pyplot as plt"
   ]
  },
  {
   "cell_type": "code",
   "execution_count": 2,
   "metadata": {
    "scrolled": true
   },
   "outputs": [],
   "source": [
    "# create a Spark session\n",
    "spark = SparkSession.builder \\\n",
    "    .master('local') \\\n",
    "    .appName('Sparkify') \\\n",
    "    .getOrCreate()"
   ]
  },
  {
   "cell_type": "markdown",
   "metadata": {},
   "source": [
    "# 加载和清洗数据\n",
    "在这个 Workspace 中，小数据集的名称是 `mini_sparkify_event_data.json`.加载和清洗数据集，检查是否有无效或缺失数据——例如，没有userid或sessionid的数据。 "
   ]
  },
  {
   "cell_type": "code",
   "execution_count": 3,
   "metadata": {
    "scrolled": true
   },
   "outputs": [
    {
     "data": {
      "text/plain": [
       "DataFrame[artist: string, auth: string, firstName: string, gender: string, itemInSession: bigint, lastName: string, length: double, level: string, location: string, method: string, page: string, registration: bigint, sessionId: bigint, song: string, status: bigint, ts: bigint, userAgent: string, userId: string]"
      ]
     },
     "execution_count": 3,
     "metadata": {},
     "output_type": "execute_result"
    }
   ],
   "source": [
    "sparkify_data = 'mini_sparkify_event_data.json'\n",
    "\n",
    "df = spark.read.json(sparkify_data)\n",
    "df.persist()"
   ]
  },
  {
   "cell_type": "code",
   "execution_count": 5,
   "metadata": {},
   "outputs": [
    {
     "name": "stdout",
     "output_type": "stream",
     "text": [
      "root\n",
      " |-- artist: string (nullable = true)\n",
      " |-- auth: string (nullable = true)\n",
      " |-- firstName: string (nullable = true)\n",
      " |-- gender: string (nullable = true)\n",
      " |-- itemInSession: long (nullable = true)\n",
      " |-- lastName: string (nullable = true)\n",
      " |-- length: double (nullable = true)\n",
      " |-- level: string (nullable = true)\n",
      " |-- location: string (nullable = true)\n",
      " |-- method: string (nullable = true)\n",
      " |-- page: string (nullable = true)\n",
      " |-- registration: long (nullable = true)\n",
      " |-- sessionId: long (nullable = true)\n",
      " |-- song: string (nullable = true)\n",
      " |-- status: long (nullable = true)\n",
      " |-- ts: long (nullable = true)\n",
      " |-- userAgent: string (nullable = true)\n",
      " |-- userId: string (nullable = true)\n",
      "\n",
      "+-------+-----------------+--------------------+\n",
      "|summary|           length|                  ts|\n",
      "+-------+-----------------+--------------------+\n",
      "|  count|           228108|              286500|\n",
      "|   mean|249.1171819778458|1.540956889810483...|\n",
      "| stddev|99.23517921058361|1.5075439608226302E9|\n",
      "|    min|          0.78322|       1538352117000|\n",
      "|    max|       3024.66567|       1543799476000|\n",
      "+-------+-----------------+--------------------+\n",
      "\n"
     ]
    },
    {
     "data": {
      "text/plain": [
       "286500"
      ]
     },
     "execution_count": 5,
     "metadata": {},
     "output_type": "execute_result"
    }
   ],
   "source": [
    "df.take(5)\n",
    "df.printSchema()\n",
    "df.describe(\"length\", \"ts\").show()\n",
    "df.count()"
   ]
  },
  {
   "cell_type": "code",
   "execution_count": 6,
   "metadata": {},
   "outputs": [
    {
     "name": "stdout",
     "output_type": "stream",
     "text": [
      "+-------------------------+\n",
      "|page                     |\n",
      "+-------------------------+\n",
      "|About                    |\n",
      "|Add Friend               |\n",
      "|Add to Playlist          |\n",
      "|Cancel                   |\n",
      "|Cancellation Confirmation|\n",
      "|Downgrade                |\n",
      "|Error                    |\n",
      "|Help                     |\n",
      "|Home                     |\n",
      "|Login                    |\n",
      "|Logout                   |\n",
      "|NextSong                 |\n",
      "|Register                 |\n",
      "|Roll Advert              |\n",
      "|Save Settings            |\n",
      "|Settings                 |\n",
      "|Submit Downgrade         |\n",
      "|Submit Registration      |\n",
      "|Submit Upgrade           |\n",
      "|Thumbs Down              |\n",
      "|Thumbs Up                |\n",
      "|Upgrade                  |\n",
      "+-------------------------+\n",
      "\n",
      "+------+\n",
      "|gender|\n",
      "+------+\n",
      "|  null|\n",
      "|     F|\n",
      "|     M|\n",
      "+------+\n",
      "\n",
      "+----------+\n",
      "|      auth|\n",
      "+----------+\n",
      "| Cancelled|\n",
      "|     Guest|\n",
      "| Logged In|\n",
      "|Logged Out|\n",
      "+----------+\n",
      "\n",
      "+-----+\n",
      "|level|\n",
      "+-----+\n",
      "| free|\n",
      "| paid|\n",
      "+-----+\n",
      "\n",
      "+------+\n",
      "|method|\n",
      "+------+\n",
      "|   GET|\n",
      "|   PUT|\n",
      "+------+\n",
      "\n",
      "+------+\n",
      "|status|\n",
      "+------+\n",
      "|   200|\n",
      "|   307|\n",
      "|   404|\n",
      "+------+\n",
      "\n"
     ]
    }
   ],
   "source": [
    "df.select(\"page\").dropDuplicates().sort(\"page\").show(df.select(\"page\").count(),False)\n",
    "df.select(\"gender\").dropDuplicates().sort(\"gender\").show()\n",
    "df.select(\"auth\").dropDuplicates().sort(\"auth\").show()\n",
    "df.select(\"level\").dropDuplicates().sort(\"level\").show()\n",
    "df.select(\"method\").dropDuplicates().sort(\"method\").show()\n",
    "df.select(\"status\").dropDuplicates().sort(\"status\").show()\n"
   ]
  },
  {
   "cell_type": "code",
   "execution_count": 7,
   "metadata": {
    "scrolled": true
   },
   "outputs": [
    {
     "name": "stdout",
     "output_type": "stream",
     "text": [
      "+------+----+---------+------+-------------+--------+------+-----+--------+------+----+------------+---------+----+------+---+---------+------+\n",
      "|artist|auth|firstName|gender|itemInSession|lastName|length|level|location|method|page|registration|sessionId|song|status| ts|userAgent|userId|\n",
      "+------+----+---------+------+-------------+--------+------+-----+--------+------+----+------------+---------+----+------+---+---------+------+\n",
      "|     0|   0|        0|     0|            0|       0|     0|    0|       0|     0|   0|           0|        0|   0|     0|  0|        0|     0|\n",
      "+------+----+---------+------+-------------+--------+------+-----+--------+------+----+------------+---------+----+------+---+---------+------+\n",
      "\n",
      "+------+----+---------+------+-------------+--------+------+-----+--------+------+----+------------+---------+-----+------+---+---------+------+\n",
      "|artist|auth|firstName|gender|itemInSession|lastName|length|level|location|method|page|registration|sessionId| song|status| ts|userAgent|userId|\n",
      "+------+----+---------+------+-------------+--------+------+-----+--------+------+----+------------+---------+-----+------+---+---------+------+\n",
      "| 58392|   0|     8346|  8346|            0|    8346| 58392|    0|    8346|     0|   0|        8346|        0|58392|     0|  0|     8346|     0|\n",
      "+------+----+---------+------+-------------+--------+------+-----+--------+------+----+------------+---------+-----+------+---+---------+------+\n",
      "\n",
      "+------+----+---------+------+-------------+--------+------+-----+--------+------+----+------------+---------+----+------+---+---------+------+\n",
      "|artist|auth|firstName|gender|itemInSession|lastName|length|level|location|method|page|registration|sessionId|song|status| ts|userAgent|userId|\n",
      "+------+----+---------+------+-------------+--------+------+-----+--------+------+----+------------+---------+----+------+---+---------+------+\n",
      "|     0|   0|        0|     0|            0|       0|     0|    0|       0|     0|   0|           0|        0|   0|     0|  0|        0|  8346|\n",
      "+------+----+---------+------+-------------+--------+------+-----+--------+------+----+------------+---------+----+------+---+---------+------+\n",
      "\n"
     ]
    }
   ],
   "source": [
    "# 具有任何NaN值，Null或缺失值的列\n",
    "df.select([count(when(isnan(c), c)).alias(c) for c in df.columns]).show()\n",
    "df.select([count(when(isnull(c), c)).alias(c) for c in df.columns]).show()\n",
    "df.select([count(when(col(c) == \"\", c)).alias(c) for c in df.columns]).show()"
   ]
  },
  {
   "cell_type": "code",
   "execution_count": 8,
   "metadata": {},
   "outputs": [
    {
     "name": "stdout",
     "output_type": "stream",
     "text": [
      "+-------+-----------------+--------------------+\n",
      "|summary|           length|                  ts|\n",
      "+-------+-----------------+--------------------+\n",
      "|  count|           228108|              278154|\n",
      "|   mean|249.1171819778458|1.540958915431871...|\n",
      "| stddev|99.23517921058361|1.5068287123306298E9|\n",
      "|    min|          0.78322|       1538352117000|\n",
      "|    max|       3024.66567|       1543799476000|\n",
      "+-------+-----------------+--------------------+\n",
      "\n"
     ]
    }
   ],
   "source": [
    "df = df.dropna(how = 'any', subset = ['userId', 'sessionId'])\n",
    "df = df.filter(df[\"userId\"] != \"\")\n",
    "\n",
    "df.select(\"userID\").distinct().count()\n",
    "df.describe(\"length\", \"ts\").show()"
   ]
  },
  {
   "cell_type": "markdown",
   "metadata": {},
   "source": [
    "# 探索性数据分析\n",
    "当你使用完整数据集时，通过加载小数据集，在 Spark 中完成基础操作来实现探索性数据分析。在这个 Workspace 中，我们已经提供给你一个你可以探索的小数据集。\n",
    "\n",
    "### 定义客户流失\n",
    "\n",
    "在你完成初步分析之后，创建一列 `Churn` 作为模型的标签。我建议你使用 `Cancellation Confirmation` 事件来定义客户流失，该事件在付费或免费客户身上都有发生。作为一个奖励任务，你也可以深入了解 `Downgrade` 事件。\n",
    "\n",
    "### 探索数据\n",
    "你定义好客户流失后，就可以执行一些探索性数据分析，观察留存用户和流失用户的行为。你可以首先把这两类用户的数据聚合到一起，观察固定时间内某个特定动作出现的次数或者播放音乐的数量。"
   ]
  },
  {
   "cell_type": "code",
   "execution_count": 9,
   "metadata": {},
   "outputs": [],
   "source": [
    "churn_df = df.filter(df.page == 'Cancellation Confirmation').select('userId').dropDuplicates()\n",
    "churn_user_ids = [cdf[\"userId\"] for cdf in churn_df.collect()]"
   ]
  },
  {
   "cell_type": "code",
   "execution_count": 10,
   "metadata": {},
   "outputs": [],
   "source": [
    "df = df.withColumn('churn', df.userId.isin(churn_user_ids))"
   ]
  },
  {
   "cell_type": "code",
   "execution_count": 11,
   "metadata": {
    "scrolled": true
   },
   "outputs": [
    {
     "name": "stdout",
     "output_type": "stream",
     "text": [
      "+-----+\n",
      "|churn|\n",
      "+-----+\n",
      "| true|\n",
      "|false|\n",
      "+-----+\n",
      "\n"
     ]
    }
   ],
   "source": [
    "df.select('churn').dropDuplicates().show()"
   ]
  },
  {
   "cell_type": "markdown",
   "metadata": {},
   "source": [
    "### 1.流失率与用户点赞/点踩行为的关系？"
   ]
  },
  {
   "cell_type": "code",
   "execution_count": 41,
   "metadata": {},
   "outputs": [
    {
     "data": {
      "image/png": "[encoded data removed]",
      "text/plain": [
       "<Figure size 432x288 with 2 Axes>"
      ]
     },
     "metadata": {
      "needs_background": "light"
     },
     "output_type": "display_data"
    }
   ],
   "source": [
    "df_thumbs_up = df.where(df.page == 'Thumbs Up').groupby(['churn', 'userId'])\\\n",
    "              .agg(count(df.page).alias('thumbsUps')).toPandas()\n",
    "df_thumbs_up.hist('thumbsUps', by='churn', bins=20);"
   ]
  },
  {
   "cell_type": "code",
   "execution_count": 43,
   "metadata": {},
   "outputs": [
    {
     "data": {
      "image/png": "[encoded data removed]",
      "text/plain": [
       "<Figure size 432x288 with 2 Axes>"
      ]
     },
     "metadata": {
      "needs_background": "light"
     },
     "output_type": "display_data"
    }
   ],
   "source": [
    "df_thumbs_down = df.where(df.page == 'Thumbs Down').groupby(['churn', 'userId'])\\\n",
    ".agg(count(df.page).alias('thumbsDowns')).toPandas()\n",
    "df_thumbs_down.hist('thumbsDowns', by='churn', bins=20);"
   ]
  },
  {
   "cell_type": "markdown",
   "metadata": {},
   "source": [
    "### 2.流失率与播放音乐数量的关系？"
   ]
  },
  {
   "cell_type": "code",
   "execution_count": 14,
   "metadata": {},
   "outputs": [
    {
     "data": {
      "image/png": "[encoded data removed]",
      "text/plain": [
       "<Figure size 432x288 with 2 Axes>"
      ]
     },
     "metadata": {
      "needs_background": "light"
     },
     "output_type": "display_data"
    }
   ],
   "source": [
    "df_songs = df.groupby(['churn', 'userId']).agg(count(df.song)\\\n",
    "          .alias('songsPlayed')).toPandas()\n",
    "df_songs.hist('songsPlayed', by='churn');"
   ]
  },
  {
   "cell_type": "markdown",
   "metadata": {},
   "source": [
    "# 特征工程\n",
    "熟悉了数据之后，就可以构建你认为会对训练模型帮助最大的特征。要处理完整数据集，你可以按照下述步骤：\n",
    "- 写一个脚本来从小数据集中提取你需要的特征\n",
    "- 确保你的脚本可以拓展到大数据集上，使用之前教过的最佳实践原则\n",
    "- 在完整数据集上运行你的脚本，按运行情况调试代码\n",
    "\n",
    "如果是在教室的 workspace，你可以直接用里面提供的小数据集来提取特征。确保当你开始使用 Spark 集群的时候，把上述的成果迁移到大数据集上。"
   ]
  },
  {
   "cell_type": "code",
   "execution_count": 15,
   "metadata": {},
   "outputs": [],
   "source": [
    "###特征：播放歌曲数量\n",
    "\n",
    "df_songs = df.groupby('userId').agg(count(df.song).alias('songsPlayed')).sort('userId')"
   ]
  },
  {
   "cell_type": "code",
   "execution_count": 16,
   "metadata": {},
   "outputs": [],
   "source": [
    "###特征：播放的不同演唱者的数量\n",
    "\n",
    "df_artists = df.dropDuplicates(['userId', 'artist']).groupby('userId').agg(count(df.artist).alias('artistsPlayed')).sort('userId')\n"
   ]
  },
  {
   "cell_type": "code",
   "execution_count": 17,
   "metadata": {},
   "outputs": [],
   "source": [
    "###特征：点赞次数\n",
    "\n",
    "df_thumb_ups = df.filter(df.page == 'Thumbs Up').groupby('userId').agg(count(df.page).alias('thumbsUps')).sort('userId')\n"
   ]
  },
  {
   "cell_type": "code",
   "execution_count": 18,
   "metadata": {},
   "outputs": [],
   "source": [
    "###特征：点踩次数\n",
    "\n",
    "df_thumb_downs = df.filter(df.page == 'Thumbs Down').groupby('userId').agg(count(df.page).alias('thumbsDowns')).sort('userId')"
   ]
  },
  {
   "cell_type": "code",
   "execution_count": 19,
   "metadata": {},
   "outputs": [],
   "source": [
    "### 合并特征\n",
    "\n",
    "df_user = df.select(['userId', 'churn']).dropDuplicates(['userId']).sort('userId')\n",
    "for feature in [df_songs, df_artists, df_thumb_ups, df_thumb_downs]:\n",
    "    df_user = df_user.join(feature, 'userId')\n"
   ]
  },
  {
   "cell_type": "markdown",
   "metadata": {},
   "source": [
    "# 建模\n",
    "将完整数据集分成训练集、测试集和验证集。测试几种你学过的机器学习方法。评价不同机器学习方法的准确率，根据情况调节参数。根据准确率你挑选出表现最好的那个模型，然后报告在训练集上的结果。因为流失顾客数据集很小，我建议选用 F1 score 作为优化指标。"
   ]
  },
  {
   "cell_type": "code",
   "execution_count": 20,
   "metadata": {
    "scrolled": true
   },
   "outputs": [
    {
     "name": "stdout",
     "output_type": "stream",
     "text": [
      "+------+-----+-----------+-------------+---------+-----------+\n",
      "|userId|churn|songsPlayed|artistsPlayed|thumbsUps|thumbsDowns|\n",
      "+------+-----+-----------+-------------+---------+-----------+\n",
      "|100010|false|        275|          252|       17|          5|\n",
      "|200002|false|        387|          339|       21|          6|\n",
      "|    51| true|       2111|         1385|      100|         21|\n",
      "|   124|false|       4079|         2232|      171|         41|\n",
      "|     7|false|        150|          142|        7|          1|\n",
      "+------+-----+-----------+-------------+---------+-----------+\n",
      "only showing top 5 rows\n",
      "\n"
     ]
    }
   ],
   "source": [
    "df_user.show(5)"
   ]
  },
  {
   "cell_type": "code",
   "execution_count": 21,
   "metadata": {
    "scrolled": true
   },
   "outputs": [
    {
     "data": {
      "text/plain": [
       "[('userId', 'string'),\n",
       " ('churn', 'float'),\n",
       " ('songsPlayed', 'float'),\n",
       " ('artistsPlayed', 'float'),\n",
       " ('thumbsUps', 'float'),\n",
       " ('thumbsDowns', 'float')]"
      ]
     },
     "execution_count": 21,
     "metadata": {},
     "output_type": "execute_result"
    }
   ],
   "source": [
    "for col in df_user.columns[1:]:\n",
    "    df_user = df_user.withColumn(col, df_user[col].cast('float'))\n",
    "\n",
    "df_user.dtypes"
   ]
  },
  {
   "cell_type": "code",
   "execution_count": 22,
   "metadata": {},
   "outputs": [],
   "source": [
    "# 将数据集分成训练集、测试集和验证集\n",
    "train, test = df_user.randomSplit([0.8, 0.2], 42)"
   ]
  },
  {
   "cell_type": "markdown",
   "metadata": {},
   "source": [
    "### 逻辑回归"
   ]
  },
  {
   "cell_type": "code",
   "execution_count": 23,
   "metadata": {},
   "outputs": [],
   "source": [
    "### 逻辑回归\n",
    "assembler = VectorAssembler(inputCols = df_user.columns[2:], outputCol = 'featuresVect')\n",
    "scaler = StandardScaler(inputCol = 'featuresVect', outputCol = 'features', withStd = True)\n",
    "indexer = StringIndexer(inputCol = 'churn', outputCol = 'label')"
   ]
  },
  {
   "cell_type": "code",
   "execution_count": 24,
   "metadata": {},
   "outputs": [],
   "source": [
    "lr = LogisticRegression(maxIter = 10, regParam = 0.0, elasticNetParam = 0)"
   ]
  },
  {
   "cell_type": "code",
   "execution_count": 25,
   "metadata": {},
   "outputs": [],
   "source": [
    "# 建立管道\n",
    "pipeline_lr = Pipeline(stages=[assembler, scaler, indexer, lr])\n",
    "\n",
    "# 参数\n",
    "paramGrid_lr = ParamGridBuilder() \\\n",
    "    .addGrid(lr.regParam, [0.0, 0.1, 0.01]) \\\n",
    "    .build()\n",
    "\n",
    "# 交叉验证\n",
    "crossval_lr = CrossValidator(estimator = pipeline_lr,\n",
    "                             estimatorParamMaps = paramGrid_lr,\n",
    "                             evaluator = BinaryClassificationEvaluator(),\n",
    "                             numFolds = 3)\n",
    "\n",
    "cvModel_lr = crossval_lr.fit(train)"
   ]
  },
  {
   "cell_type": "code",
   "execution_count": 26,
   "metadata": {
    "scrolled": true
   },
   "outputs": [
    {
     "data": {
      "text/plain": [
       "[0.7254982694832317, 0.6610514381191073, 0.7253490870032222]"
      ]
     },
     "execution_count": 26,
     "metadata": {},
     "output_type": "execute_result"
    }
   ],
   "source": [
    "# 训练结果\n",
    "cvModel_lr.avgMetrics"
   ]
  },
  {
   "cell_type": "code",
   "execution_count": 30,
   "metadata": {},
   "outputs": [
    {
     "data": {
      "text/plain": [
       "0.6074380165289256"
      ]
     },
     "execution_count": 30,
     "metadata": {},
     "output_type": "execute_result"
    }
   ],
   "source": [
    "# 测试表现\n",
    "results = cvModel_lr.transform(test)\n",
    "BinaryClassificationEvaluator().evaluate(results)"
   ]
  },
  {
   "cell_type": "markdown",
   "metadata": {},
   "source": [
    "### 随机森林"
   ]
  },
  {
   "cell_type": "code",
   "execution_count": 31,
   "metadata": {},
   "outputs": [],
   "source": [
    "###随机森林\n",
    "stringIndexer = StringIndexer(inputCol=\"label\", outputCol=\"indexed\")\n",
    "rf = RandomForestClassifier(numTrees=3, maxDepth=2, labelCol=\"indexed\", seed=42)"
   ]
  },
  {
   "cell_type": "code",
   "execution_count": 37,
   "metadata": {},
   "outputs": [],
   "source": [
    "# 建立管道\n",
    "pipeline_rf = Pipeline(stages=[assembler, scaler, indexer, stringIndexer, rf])\n",
    "\n",
    "# 参数\n",
    "paramGrid_rf = ParamGridBuilder() \\\n",
    "    .addGrid(rf.numTrees, [10, 30]) \\\n",
    "    .build()\n",
    "\n",
    "# 交叉验证\n",
    "crossval_rf = CrossValidator(estimator = pipeline_rf,\n",
    "                             estimatorParamMaps = paramGrid_rf,\n",
    "                             evaluator = BinaryClassificationEvaluator(),\n",
    "                             numFolds = 3)\n",
    "# 训练\n",
    "cvModel_rf = crossval_rf.fit(train)"
   ]
  },
  {
   "cell_type": "code",
   "execution_count": 38,
   "metadata": {},
   "outputs": [
    {
     "data": {
      "text/plain": [
       "[0.6278672872657836, 0.6236334884831126]"
      ]
     },
     "execution_count": 38,
     "metadata": {},
     "output_type": "execute_result"
    }
   ],
   "source": [
    "# 训练结果\n",
    "cvModel_rf.avgMetrics"
   ]
  },
  {
   "cell_type": "code",
   "execution_count": 39,
   "metadata": {},
   "outputs": [
    {
     "data": {
      "text/plain": [
       "0.7582644628099173"
      ]
     },
     "execution_count": 39,
     "metadata": {},
     "output_type": "execute_result"
    }
   ],
   "source": [
    "# 测试表现\n",
    "results = cvModel_rf.transform(test)\n",
    "BinaryClassificationEvaluator().evaluate(results)"
   ]
  },
  {
   "cell_type": "markdown",
   "metadata": {},
   "source": [
    "### 结果\n",
    "\n",
    "试验了模型LogisticRegression 和 RandomForestClassifier，其中效果最好的是随机森林模型，F1 score最高，可以采用该模型进行预测流失用户。"
   ]
  },
  {
   "cell_type": "markdown",
   "metadata": {},
   "source": [
    "# 最后一步\n",
    "清理你的代码，添加注释和重命名变量，使得代码更易读和易于维护。参考 Spark 项目概述页面和数据科学家毕业项目审阅要求，确保你的项目包含了毕业项目要求的所有内容，并且满足所有审阅要求。记得在 GitHub 代码库里包含一份全面的文档——README文件，以及一个网络应用程序或博客文章。"
   ]
  },
  {
   "cell_type": "code",
   "execution_count": null,
   "metadata": {},
   "outputs": [],
   "source": []
  }
 ],
 "metadata": {
  "kernelspec": {
   "display_name": "Python 3",
   "language": "python",
   "name": "python3"
  },
  "language_info": {
   "codemirror_mode": {
    "name": "ipython",
    "version": 3
   },
   "file_extension": ".py",
   "mimetype": "text/x-python",
   "name": "python",
   "nbconvert_exporter": "python",
   "pygments_lexer": "ipython3",
   "version": "3.7.2"
  }
 },
 "nbformat": 4,
 "nbformat_minor": 2
}
